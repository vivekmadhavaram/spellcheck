{
 "cells": [
  {
   "cell_type": "code",
   "execution_count": 1,
   "metadata": {
    "collapsed": true
   },
   "outputs": [],
   "source": [
    "import csv\n",
    "count=[]\n",
    "words=[]\n",
    "i=0\n",
    "with open('dict.csv', 'r') as csvFile:\n",
    "    reader = csv.reader(csvFile)\n",
    "    for row in reader:\n",
    "        row=''.join(row)\n",
    "        words.append(row)\n",
    "        count.append(0)\n",
    "        i+=1"
   ]
  },
  {
   "cell_type": "code",
   "execution_count": 9,
   "metadata": {},
   "outputs": [],
   "source": [
    "def correction(word):\n",
    "    i=0\n",
    "    count=[]\n",
    "    y=word\n",
    "    for r in words:\n",
    "        count.append(0)\n",
    "    for r in words:\n",
    "        word=y\n",
    "       # print(r)\n",
    "        if(len(r)>=len(word)):\n",
    "           # print(r)\n",
    "            x=len(word)\n",
    "            while(x<=len(r)):\n",
    "                word=word+'*'\n",
    "                x+=1\n",
    "            #print(word)\n",
    "            j=0\n",
    "            while(j<len(r)):\n",
    "                if(r[j]==word[j]):\n",
    "                    #print(j)\n",
    "                    count[i]+=1\n",
    "                    #print(count[i])\n",
    "                j+=1\n",
    "        i=i+1\n",
    "        v=[]\n",
    "\n",
    "    maxi=max(count)\n",
    "    for i in range(len(count)):\n",
    "        if(count[i]==maxi):\n",
    "            v.append(i)\n",
    "    #/print(maxi)\n",
    "    for i in range(len(v)):\n",
    "        b=int(v[i])\n",
    "        print(words[b])\n",
    "        "
   ]
  },
  {
   "cell_type": "code",
   "execution_count": 10,
   "metadata": {},
   "outputs": [
    {
     "name": "stdout",
     "output_type": "stream",
     "text": [
      "brutal\n",
      "brutha\n"
     ]
    }
   ],
   "source": [
    "correction(\"brut\")"
   ]
  },
  {
   "cell_type": "code",
   "execution_count": null,
   "metadata": {
    "collapsed": true
   },
   "outputs": [],
   "source": []
  }
 ],
 "metadata": {
  "kernelspec": {
   "display_name": "Python 3",
   "language": "python",
   "name": "python3"
  },
  "language_info": {
   "codemirror_mode": {
    "name": "ipython",
    "version": 3
   },
   "file_extension": ".py",
   "mimetype": "text/x-python",
   "name": "python",
   "nbconvert_exporter": "python",
   "pygments_lexer": "ipython3",
   "version": "3.6.3"
  }
 },
 "nbformat": 4,
 "nbformat_minor": 2
}
